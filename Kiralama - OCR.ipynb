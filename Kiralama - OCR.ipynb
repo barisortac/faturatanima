{
 "cells": [
  {
   "cell_type": "code",
   "execution_count": 40,
   "metadata": {},
   "outputs": [],
   "source": [
    "import pytesseract\n",
    "from PIL import Image\n",
    "import re\n",
    "from wand.image import Image as wi"
   ]
  },
  {
   "cell_type": "code",
   "execution_count": 41,
   "metadata": {},
   "outputs": [],
   "source": [
    "pytesseract.pytesseract.tesseract_cmd = r'C:\\Program Files (x86)\\Tesseract-OCR\\tesseract.exe'"
   ]
  },
  {
   "cell_type": "code",
   "execution_count": 42,
   "metadata": {},
   "outputs": [],
   "source": [
    "deneme = pytesseract.image_to_string(Image.open('9.jpg'), lang=\"tur\")"
   ]
  },
  {
   "cell_type": "code",
   "execution_count": 43,
   "metadata": {
    "collapsed": true
   },
   "outputs": [
    {
     "name": "stdout",
     "output_type": "stream",
     "text": [
      "7\n",
      "\n",
      "HİZMET NO :212 285 70 70\n",
      "\n",
      "Fatura Tarihi :31 Ekim 2018 23:59\n",
      "Fatura Dönemi : 29 Eylül 2018 - 29 Ekim 2018\n",
      "Vergi Dairesi/No : SARIYER / 4830263147\n",
      "\n",
      "Bir Sonraki Fatura Kesim Tarihi : 28/11/2018\n",
      "Bir Sonraki Son Ödeme Tarihi : 28/12/2018\n",
      "\n",
      "FATURA ID: E012018014559112\n",
      "\n",
      "NALA\n",
      "\n",
      "ÖDENECEK TUTAR : 32,25 TL\n"
     ]
    }
   ],
   "source": [
    "print(deneme)"
   ]
  },
  {
   "cell_type": "code",
   "execution_count": 44,
   "metadata": {},
   "outputs": [],
   "source": [
    "# Pdf'ten jpeg'e çevir\n",
    "\n",
    "pdf = wi(filename='taranan.pdf', resolution=300) \n",
    "pdfImage = pdf.convert(\"jpeg\")\n",
    "\n",
    "i=1\n",
    "for img in pdfImage.sequence:\n",
    "    img.crop(1330,445,2360,1065)\n",
    "    page = wi(image=img)\n",
    "    page.save(filename=str(i)+\".jpg\")\n",
    "    i += 1"
   ]
  },
  {
   "cell_type": "code",
   "execution_count": 47,
   "metadata": {},
   "outputs": [
    {
     "name": "stdout",
     "output_type": "stream",
     "text": [
      "1\t2122857120\t31,75TL\n",
      "2\t2122856617\t32,00TL\n",
      "3\t2122853304\t32,00TL\n",
      "4\t2122853302\t32,25TL\n",
      "5\t2122853596\t32,25TL\n",
      "6\t2122853300\t32,00TL\n",
      "7\t2122853487\t31,75TL\n",
      "8\t2122857072\t32,00TL\n",
      "9\t2122857070\t32,25TL\n"
     ]
    }
   ],
   "source": [
    "# Ocr ile karakter tanıyıp Regex ile ihtiyaç olan bilgiye erişme\n",
    "\n",
    "for i in range(1,10):\n",
    "    ocr_read = pytesseract.image_to_string(Image.open('{}.jpg'.format(i)), lang=\"tur\")\n",
    "    hizmetno_pre = re.search(r'\\d{3}\\s?\\d{3}\\s?\\d{2}\\s?\\d{2}',ocr_read)\n",
    "    hizmetno = hizmetno_pre.group(0)\n",
    "    tutar_pre = re.search(r'\\d+,\\d+\\s?TL', ocr_read)\n",
    "    tutar = tutar_pre.group(0)\n",
    "    print(str(i)+'\\t'+str(hizmetno).replace(' ','')+'\\t'+str(tutar).replace(' ',''))\n"
   ]
  }
 ],
 "metadata": {
  "kernelspec": {
   "display_name": "Python 3",
   "language": "python",
   "name": "python3"
  },
  "language_info": {
   "codemirror_mode": {
    "name": "ipython",
    "version": 3
   },
   "file_extension": ".py",
   "mimetype": "text/x-python",
   "name": "python",
   "nbconvert_exporter": "python",
   "pygments_lexer": "ipython3",
   "version": "3.7.0"
  }
 },
 "nbformat": 4,
 "nbformat_minor": 2
}
