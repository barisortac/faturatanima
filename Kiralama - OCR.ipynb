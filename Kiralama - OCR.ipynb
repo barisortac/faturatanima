{
 "cells": [
  {
   "cell_type": "code",
   "execution_count": 1,
   "metadata": {},
   "outputs": [],
   "source": [
    "import pytesseract\n",
    "from PIL import Image as PIL\n",
    "import regex\n",
    "import time\n",
    "from pdf2image import convert_from_path\n",
    "import os\n",
    "from openpyxl import Workbook"
   ]
  },
  {
   "cell_type": "code",
   "execution_count": 2,
   "metadata": {},
   "outputs": [
    {
     "name": "stdout",
     "output_type": "stream",
     "text": [
      "44.48632836341858\n",
      "5.09840202331543\n"
     ]
    }
   ],
   "source": [
    "ilk = time.time()\n",
    "\n",
    "q=time.time()\n",
    "\n",
    "# file = os.open('taranan.pdf', os.O_RDWR)\n",
    "# size = os.path.getsize(file)\n",
    "# chunksize = size / 10\n",
    "# print(chunksize)\n",
    "# parts = chunks(file,chunksize)\n",
    "# parts = str(parts)\n",
    "\n",
    "pages = convert_from_path('<İŞLEM YAPILACAK PDF>', dpi=150, output_folder='<ÇIKTI KLASÖRÜ>', thread_count=5)\n",
    "\n",
    "\n",
    "w=time.time()\n",
    "print(w-q)\n",
    "\n",
    "e=time.time()\n",
    "\n",
    "\n",
    "#determine best crop size\n",
    "x = [a.size for a in pages][0][0]\n",
    "y = [a.size for a in pages][0][1]\n",
    "pre_size = (x,y,x,y)\n",
    "\n",
    "#coef = (1330/2481, 445/3580, 2338/2481, 1065/3580)\n",
    "coef = (0.536, 0.1243, 0.942, 0.35)\n",
    "area = [a*b for a,b in zip(coef,pre_size)]\n",
    "\n",
    "\n",
    "#make jpg from ppm\n",
    "i=1\n",
    "for page in pages:\n",
    "    x,y = page.size\n",
    "    pre_image = page.convert('L')\n",
    "    pre_image = pre_image.crop(area)\n",
    "    pre_image.save('{}.jpg'.format(i), 'JPEG')\n",
    "    i = i + 1 \n",
    "\n",
    "\n",
    "#remove temp folders of convert_from_path\n",
    "dir_name = os.getcwd()\n",
    "test = os.listdir(dir_name)\n",
    "for item in test:\n",
    "    if item.endswith(\".ppm\"):\n",
    "        os.remove(os.path.join(dir_name, item))    \n",
    "    \n",
    "    \n",
    "    \n",
    "r=time.time()\n",
    "print(r-e)"
   ]
  },
  {
   "cell_type": "code",
   "execution_count": 3,
   "metadata": {},
   "outputs": [],
   "source": [
    "jpg_list = []\n",
    "for file in os.listdir():\n",
    "    if file.endswith(\".jpg\"):\n",
    "        jpg_list.append([file])\n",
    "        \n",
    "wb = Workbook()\n",
    "faturalar = wb.create_sheet('FATURA BİLGİLERİ')"
   ]
  },
  {
   "cell_type": "code",
   "execution_count": 8,
   "metadata": {},
   "outputs": [
    {
     "name": "stdout",
     "output_type": "stream",
     "text": [
      "hizmetno süre  0.00028228759765625\n",
      "tutar süre  0.00028228759765625\n",
      "faturaid süre  0.00028228759765625\n",
      "tutar süre  0.00018095970153808594\n",
      "faturaid süre  0.00018095970153808594\n",
      "DÖNGÜ SÜRE  1.4019768238067627\n"
     ]
    },
    {
     "name": "stdout",
     "output_type": "stream",
     "text": [
      "hizmetno süre  0.00018405914306640625\n",
      "tutar süre  0.00018405914306640625\n",
      "faturaid süre  0.00018405914306640625\n",
     ]
    }
   ],
   "source": [
    "# Ocr ile karakter tanıyıp Regex ile ihtiyaç olan bilgiye erişme\n",
    "hizmet_re = regex.compile(r\"\\d{3}+\\s?\\d{3}+\\s?\\d{2}+\\s?\\d{2}+\")\n",
    "tutar_re = regex.compile(r\"(\\d+.)?\\d+,\\d+\\s?TL\")\n",
    "fatura_re = regex.compile(r\"20\\d{11}\")\n",
    "\n",
    "regsure = time.time()\n",
    "\n",
    "for i in range(1,len(jpg_list)+1):\n",
    "    dongu1 = time.time()\n",
    "    pre_open = PIL.open('{}.jpg'.format(i))\n",
    "    ocr_read = pytesseract.image_to_string(pre_open, lang=\"tur\")\n",
    "    \n",
    "    try:\n",
    "        a = time.time()\n",
    "        hizmetno_pre = hizmet_re.search(ocr_read)\n",
    "        hizmetno = hizmetno_pre.group()\n",
    "        faturalar['A{}'.format(i)] = hizmetno.replace(' ','')\n",
    "        b = time.time()\n",
    "        print('hizmetno süre  {}'.format(b-a))\n",
    "    except:\n",
    "        faturalar['A{}'.format(i)] = 'BULUNAMADI'\n",
    "\n",
    "    \n",
    "    try:\n",
    "        c = time.time()\n",
    "        tutar_pre = tutar_re.search(ocr_read)\n",
    "        tutar = tutar_pre.group()\n",
    "        faturalar['B{}'.format(i)] = tutar.replace(' ','')\n",
    "        d = time.time()\n",
    "        print('tutar süre  {}'.format(b-a))\n",
    "    except:\n",
    "        faturalar['B{}'.format(i)] = 'BULUNAMADI'\n",
    "    \n",
    "    try:\n",
    "        e = time.time()\n",
    "        faturaid_pre = fatura_re.search(ocr_read)\n",
    "        faturaid = faturaid_pre.group()\n",
    "        faturalar['C{}'.format(i)] = faturaid.replace(' ','')\n",
    "        f = time.time()\n",
    "        print('faturaid süre  {}'.format(b-a))\n",
    "    except:\n",
    "        faturalar['C{}'.format(i)] = 'BULUNAMADI'\n",
    "    \n",
    "    dongu2 =time.time()\n",
    "    print('DÖNGÜ SÜRE  {}'.format(dongu2-dongu1)) \n",
    "    #print(str(i)+'\\t'+str(hizmetno).replace(' ','')+'\\t'+str(tutar).replace(' ',''))\n",
    "    \n",
    "wb.save('Faturalar OCR.xlsx')\n",
    "\n",
    "regsure2 = time.time()\n",
    "\n",
    "print('regsüre {}'.format(regsure2-regsure))"
   ]
  },
  {
   "cell_type": "code",
   "execution_count": 5,
   "metadata": {},
   "outputs": [
    {
     "name": "stdout",
     "output_type": "stream",
     "text": [
      "geçen zaman= 245.76114559173584\n"
     ]
    }
   ],
   "source": [
    "son = time.time()\n",
    "print('geçen zaman= {}'.format(son-ilk))"
   ]
  },
  {
   "cell_type": "code",
   "execution_count": 9,
   "metadata": {},
   "outputs": [
    {
     "name": "stdout",
     "output_type": "stream",
     "text": [
      "7\n",
      "\n",
      "HİZMETNO :212 365 80 00\n",
      "\n",
      "Fatura Tarihi :31 Aralık 2018 23:59\n",
      "Fatura Dönemi 29 Kasim 2018 - 29 Aralık 201\n",
      "Vergi Dairesi/No : SARIYER / 4830263147\n",
      "\n",
      "Bir Sonraki Fatura Kesim Tarihi : 29/01/2019\n",
      "Bir Sonraki Son Ödeme Tarihi : 27/02/2019\n",
      "FATURAID: E132018000019812\n",
      "\n",
      "ÖDENECEK TUTAR : 1.031,50 TL\n"
     ]
    }
   ],
   "source": [
    "print(pytesseract.image_to_string('92.jpg', lang=\"tur\"))"
   ]
  },
  {
   "cell_type": "code",
   "execution_count": null,
   "metadata": {},
   "outputs": [],
   "source": []
  }
 ],
 "metadata": {
  "kernelspec": {
   "display_name": "Python 3",
   "language": "python",
   "name": "python3"
  },
  "language_info": {
   "codemirror_mode": {
    "name": "ipython",
    "version": 3
   },
   "file_extension": ".py",
   "mimetype": "text/x-python",
   "name": "python",
   "nbconvert_exporter": "python",
   "pygments_lexer": "ipython3",
   "version": "3.6.7"
  }
 },
 "nbformat": 4,
 "nbformat_minor": 2
}
